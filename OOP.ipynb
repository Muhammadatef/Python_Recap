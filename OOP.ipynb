{
 "cells": [
  {
   "cell_type": "markdown",
   "id": "d2effb16-3631-4a0f-9bd1-fac3c2657073",
   "metadata": {},
   "source": [
    "## Python OOP"
   ]
  },
  {
   "cell_type": "code",
   "execution_count": 8,
   "id": "903b12f9-d9a5-4967-a9d2-c64e2ba0bd7a",
   "metadata": {},
   "outputs": [],
   "source": [
    "class Dog:\n",
    "    def bark(self): #obj.bark() method\n",
    "        print('haw haw haw')\n",
    "        \n",
    "dog1 = Dog()\n"
   ]
  },
  {
   "cell_type": "code",
   "execution_count": 9,
   "id": "35d5dcd1-2edd-4c15-8ba6-85975e308c83",
   "metadata": {},
   "outputs": [
    {
     "data": {
      "text/plain": [
       "['__class__',\n",
       " '__delattr__',\n",
       " '__dict__',\n",
       " '__dir__',\n",
       " '__doc__',\n",
       " '__eq__',\n",
       " '__format__',\n",
       " '__ge__',\n",
       " '__getattribute__',\n",
       " '__gt__',\n",
       " '__hash__',\n",
       " '__init__',\n",
       " '__init_subclass__',\n",
       " '__le__',\n",
       " '__lt__',\n",
       " '__module__',\n",
       " '__ne__',\n",
       " '__new__',\n",
       " '__reduce__',\n",
       " '__reduce_ex__',\n",
       " '__repr__',\n",
       " '__setattr__',\n",
       " '__sizeof__',\n",
       " '__str__',\n",
       " '__subclasshook__',\n",
       " '__weakref__',\n",
       " 'bark']"
      ]
     },
     "execution_count": 9,
     "metadata": {},
     "output_type": "execute_result"
    }
   ],
   "source": [
    "dir(dog1)"
   ]
  },
  {
   "cell_type": "code",
   "execution_count": 10,
   "id": "351a8d58-93d7-4494-870f-a381f562e276",
   "metadata": {},
   "outputs": [
    {
     "ename": "TypeError",
     "evalue": "bark() missing 1 required positional argument: 'self'",
     "output_type": "error",
     "traceback": [
      "\u001b[0;31m---------------------------------------------------------------------------\u001b[0m",
      "\u001b[0;31mTypeError\u001b[0m                                 Traceback (most recent call last)",
      "Cell \u001b[0;32mIn[10], line 1\u001b[0m\n\u001b[0;32m----> 1\u001b[0m \u001b[43mDog\u001b[49m\u001b[38;5;241;43m.\u001b[39;49m\u001b[43mbark\u001b[49m\u001b[43m(\u001b[49m\u001b[43m)\u001b[49m\n\u001b[1;32m      2\u001b[0m \u001b[38;5;28mtype\u001b[39m(dog1)\n",
      "\u001b[0;31mTypeError\u001b[0m: bark() missing 1 required positional argument: 'self'"
     ]
    }
   ],
   "source": [
    "Dog.bark()\n",
    "type(dog1)\n",
    "### to make it work type Dog.bark(dog1)"
   ]
  },
  {
   "cell_type": "markdown",
   "id": "a5bd886e-c61f-4a99-880b-35f0fe4267c6",
   "metadata": {},
   "source": [
    "##### why you faced an Type error here?\n",
    "this method is not accessable from the object, it's only accessible for the class\n",
    "to make it accessible you have to use 'self' the keyword that store the place for the object. to replace it with the object name when you call the method."
   ]
  },
  {
   "cell_type": "code",
   "execution_count": 12,
   "id": "d4369c80-7ba1-4c67-a66a-a48e7f2ba5c3",
   "metadata": {},
   "outputs": [
    {
     "name": "stdout",
     "output_type": "stream",
     "text": [
      "haw haw haw\n"
     ]
    }
   ],
   "source": [
    "dog1.bark()"
   ]
  },
  {
   "cell_type": "code",
   "execution_count": 47,
   "id": "534198d2-c46e-47d5-83d8-152f36dd61ec",
   "metadata": {},
   "outputs": [],
   "source": [
    "class Dog:\n",
    "    def __init__(self,name,age): ##dunder \"magic\" methods\n",
    "        self.name = name\n",
    "        self.age=age\n",
    "    def bark(self): #obj.bark() method\n",
    "        print('haw haw haw')\n",
    "    def set_age(self,age):\n",
    "        self.age = age\n",
    "    @property \n",
    "    def name(self):\n",
    "        return self._name\n",
    "    @name.setter\n",
    "    def name(self,name):\n",
    "        if not name.isalpha():\n",
    "            raise ValueError('Dog Name must be alphabetical Only')\n",
    "        self._name = name\n",
    "    @name.deleter\n",
    "    def name(self):\n",
    "        self.name = None\n",
    "        \n"
   ]
  },
  {
   "cell_type": "code",
   "execution_count": 48,
   "id": "3bfe2e41-0c73-474e-b418-fb1f5b9871b1",
   "metadata": {},
   "outputs": [
    {
     "data": {
      "text/plain": [
       "'simba'"
      ]
     },
     "execution_count": 48,
     "metadata": {},
     "output_type": "execute_result"
    }
   ],
   "source": [
    "dog2.name"
   ]
  },
  {
   "cell_type": "code",
   "execution_count": 49,
   "id": "f528c329-414e-400c-9126-f5b32361e992",
   "metadata": {},
   "outputs": [
    {
     "name": "stdout",
     "output_type": "stream",
     "text": [
      "haw haw haw\n"
     ]
    }
   ],
   "source": [
    "dog2.bark()"
   ]
  },
  {
   "cell_type": "code",
   "execution_count": 50,
   "id": "60889f7c-2a22-4acf-a13d-ec27d1999f2b",
   "metadata": {},
   "outputs": [],
   "source": [
    "dog3=Dog('zeft',2)"
   ]
  },
  {
   "cell_type": "code",
   "execution_count": 51,
   "id": "669a995f-5af2-4be8-8e31-6da5abd0d9d5",
   "metadata": {},
   "outputs": [
    {
     "data": {
      "text/plain": [
       "2"
      ]
     },
     "execution_count": 51,
     "metadata": {},
     "output_type": "execute_result"
    }
   ],
   "source": [
    "dog3.age"
   ]
  },
  {
   "cell_type": "code",
   "execution_count": 52,
   "id": "d0c50787-af7d-4e0d-b2c0-4faa93b09aa5",
   "metadata": {},
   "outputs": [],
   "source": [
    "dog3.set_age(3)"
   ]
  },
  {
   "cell_type": "code",
   "execution_count": 53,
   "id": "64a76335-4d72-46fa-a94d-c548b1742987",
   "metadata": {},
   "outputs": [
    {
     "data": {
      "text/plain": [
       "3"
      ]
     },
     "execution_count": 53,
     "metadata": {},
     "output_type": "execute_result"
    }
   ],
   "source": [
    "dog3.age"
   ]
  },
  {
   "cell_type": "code",
   "execution_count": 54,
   "id": "e9b9a100-1302-44eb-aa2f-6db4d82392b2",
   "metadata": {},
   "outputs": [],
   "source": [
    "dog4 = Dog('juva',2)"
   ]
  },
  {
   "cell_type": "code",
   "execution_count": 55,
   "id": "5642a165-cb2f-4072-b7d6-99c3c8d55e2c",
   "metadata": {},
   "outputs": [
    {
     "ename": "ValueError",
     "evalue": "Dog Name must be alphabetical Only",
     "output_type": "error",
     "traceback": [
      "\u001b[0;31m---------------------------------------------------------------------------\u001b[0m",
      "\u001b[0;31mValueError\u001b[0m                                Traceback (most recent call last)",
      "Cell \u001b[0;32mIn[55], line 1\u001b[0m\n\u001b[0;32m----> 1\u001b[0m dog5\u001b[38;5;241m=\u001b[39m \u001b[43mDog\u001b[49m\u001b[43m(\u001b[49m\u001b[38;5;124;43m'\u001b[39;49m\u001b[38;5;124;43m123b\u001b[39;49m\u001b[38;5;124;43m'\u001b[39;49m\u001b[43m,\u001b[49m\u001b[43m \u001b[49m\u001b[38;5;241;43m3\u001b[39;49m\u001b[43m)\u001b[49m\n",
      "Cell \u001b[0;32mIn[47], line 3\u001b[0m, in \u001b[0;36mDog.__init__\u001b[0;34m(self, name, age)\u001b[0m\n\u001b[1;32m      2\u001b[0m \u001b[38;5;28;01mdef\u001b[39;00m \u001b[38;5;21m__init__\u001b[39m(\u001b[38;5;28mself\u001b[39m,name,age): \u001b[38;5;66;03m##dunder \"magic\" methods\u001b[39;00m\n\u001b[0;32m----> 3\u001b[0m     \u001b[38;5;28;43mself\u001b[39;49m\u001b[38;5;241;43m.\u001b[39;49m\u001b[43mname\u001b[49m \u001b[38;5;241m=\u001b[39m name\n\u001b[1;32m      4\u001b[0m     \u001b[38;5;28mself\u001b[39m\u001b[38;5;241m.\u001b[39mage\u001b[38;5;241m=\u001b[39mage\n",
      "Cell \u001b[0;32mIn[47], line 15\u001b[0m, in \u001b[0;36mDog.name\u001b[0;34m(self, name)\u001b[0m\n\u001b[1;32m     12\u001b[0m \u001b[38;5;129m@name\u001b[39m\u001b[38;5;241m.\u001b[39msetter\n\u001b[1;32m     13\u001b[0m \u001b[38;5;28;01mdef\u001b[39;00m \u001b[38;5;21mname\u001b[39m(\u001b[38;5;28mself\u001b[39m,name):\n\u001b[1;32m     14\u001b[0m     \u001b[38;5;28;01mif\u001b[39;00m \u001b[38;5;129;01mnot\u001b[39;00m name\u001b[38;5;241m.\u001b[39misalpha():\n\u001b[0;32m---> 15\u001b[0m         \u001b[38;5;28;01mraise\u001b[39;00m \u001b[38;5;167;01mValueError\u001b[39;00m(\u001b[38;5;124m'\u001b[39m\u001b[38;5;124mDog Name must be alphabetical Only\u001b[39m\u001b[38;5;124m'\u001b[39m)\n\u001b[1;32m     16\u001b[0m     \u001b[38;5;28mself\u001b[39m\u001b[38;5;241m.\u001b[39m_name \u001b[38;5;241m=\u001b[39m name\n",
      "\u001b[0;31mValueError\u001b[0m: Dog Name must be alphabetical Only"
     ]
    }
   ],
   "source": [
    "dog5= Dog('123b', 3)"
   ]
  },
  {
   "cell_type": "code",
   "execution_count": 61,
   "id": "66679e81-9dd2-4da3-88a4-0c26f7efbc50",
   "metadata": {},
   "outputs": [],
   "source": [
    "class Account:\n",
    "    \"\"\"This class is a base class for bank accounts\n",
    "    that is created by passing name and balance\"\"\"\n",
    "    def __init__(self, name, balance):\n",
    "        \"\"\" to initialize basic info\"\"\"\n",
    "        self.name = name\n",
    "        self.balance = balance\n",
    "    def deposit(self, amount):\n",
    "        if amount > 0:\n",
    "            self.balance += amount\n",
    "        else:\n",
    "            raise ValueError('Amount must be positive.')\n",
    "    def withdraw(self, amount):\n",
    "        if amount > 0:\n",
    "            self.balance -= amount"
   ]
  },
  {
   "cell_type": "code",
   "execution_count": 62,
   "id": "37ae8a4a-3cb0-4fa8-8a45-3ff04bad7a77",
   "metadata": {},
   "outputs": [],
   "source": [
    "acc1 = Account('MAF', 10000000000)"
   ]
  },
  {
   "cell_type": "code",
   "execution_count": 67,
   "id": "d1c610ce-b604-4be2-926c-1de4b30f8feb",
   "metadata": {},
   "outputs": [],
   "source": [
    "acc1.deposit(1000000)"
   ]
  },
  {
   "cell_type": "code",
   "execution_count": 64,
   "id": "cf16b47a-159c-416c-935f-39aa7d826fce",
   "metadata": {},
   "outputs": [
    {
     "data": {
      "text/plain": [
       "10001000000"
      ]
     },
     "execution_count": 64,
     "metadata": {},
     "output_type": "execute_result"
    }
   ],
   "source": [
    "acc1.balance"
   ]
  },
  {
   "cell_type": "code",
   "execution_count": 65,
   "id": "6656f444-c672-48c7-af0b-3306a7fe449c",
   "metadata": {},
   "outputs": [
    {
     "data": {
      "text/plain": [
       "'MAF'"
      ]
     },
     "execution_count": 65,
     "metadata": {},
     "output_type": "execute_result"
    }
   ],
   "source": [
    "acc1.name"
   ]
  },
  {
   "cell_type": "code",
   "execution_count": 68,
   "id": "e933ef18-f600-4f00-91b9-bf974e883a23",
   "metadata": {},
   "outputs": [],
   "source": [
    "class Account:\n",
    "    def __init__(self, name, balance):\n",
    "        self.name = name\n",
    "        self.balance = balance\n",
    "        self.__ssn = '123-45-6789'\n",
    "    def deposit(self, amount:'must be positive value') -> 'insert money':\n",
    "        if amount > 0:\n",
    "            self.balance += amount\n",
    "        else:\n",
    "            raise ValueError('amount must be positive.')\n",
    "    def withdraw(self, amount):\n",
    "        if amount > 0:\n",
    "            self.balance -= amount"
   ]
  },
  {
   "cell_type": "code",
   "execution_count": 69,
   "id": "5662c249-10c8-4fe5-a00d-d7397f12e264",
   "metadata": {},
   "outputs": [],
   "source": [
    "acc2 = Account('Mohamed', 300)"
   ]
  },
  {
   "cell_type": "code",
   "execution_count": 70,
   "id": "f4ec47b5-e014-4b33-9de7-96388231faaf",
   "metadata": {
    "scrolled": true
   },
   "outputs": [
    {
     "data": {
      "text/plain": [
       "['_Account__ssn',\n",
       " '__class__',\n",
       " '__delattr__',\n",
       " '__dict__',\n",
       " '__dir__',\n",
       " '__doc__',\n",
       " '__eq__',\n",
       " '__format__',\n",
       " '__ge__',\n",
       " '__getattribute__',\n",
       " '__gt__',\n",
       " '__hash__',\n",
       " '__init__',\n",
       " '__init_subclass__',\n",
       " '__le__',\n",
       " '__lt__',\n",
       " '__module__',\n",
       " '__ne__',\n",
       " '__new__',\n",
       " '__reduce__',\n",
       " '__reduce_ex__',\n",
       " '__repr__',\n",
       " '__setattr__',\n",
       " '__sizeof__',\n",
       " '__str__',\n",
       " '__subclasshook__',\n",
       " '__weakref__',\n",
       " 'balance',\n",
       " 'deposit',\n",
       " 'name',\n",
       " 'withdraw']"
      ]
     },
     "execution_count": 70,
     "metadata": {},
     "output_type": "execute_result"
    }
   ],
   "source": [
    "dir(acc2)"
   ]
  },
  {
   "cell_type": "code",
   "execution_count": 71,
   "id": "715c4be9-2d3c-4737-933c-4970693c3e76",
   "metadata": {},
   "outputs": [],
   "source": [
    "acc2._Account__ssn= '00000000'"
   ]
  },
  {
   "cell_type": "code",
   "execution_count": 73,
   "id": "74c462a6-403e-475c-a5ee-d480e449d7c5",
   "metadata": {},
   "outputs": [
    {
     "name": "stdout",
     "output_type": "stream",
     "text": [
      "<__main__.Account object at 0x7fe1461dd0d0>\n"
     ]
    }
   ],
   "source": [
    "print(acc2)"
   ]
  },
  {
   "cell_type": "code",
   "execution_count": 74,
   "id": "ddc45417-0ae4-4508-a4f6-f880b6d70100",
   "metadata": {},
   "outputs": [],
   "source": [
    "myr = range(1,178,3)\n"
   ]
  },
  {
   "cell_type": "code",
   "execution_count": 75,
   "id": "49c0e038-58fc-4d7c-8a4b-09de2f179562",
   "metadata": {},
   "outputs": [
    {
     "data": {
      "text/plain": [
       "range(1, 178, 3)"
      ]
     },
     "execution_count": 75,
     "metadata": {},
     "output_type": "execute_result"
    }
   ],
   "source": [
    "myr"
   ]
  },
  {
   "cell_type": "code",
   "execution_count": 76,
   "id": "0fd66a45-b84d-44e6-9308-13c8581d843a",
   "metadata": {},
   "outputs": [
    {
     "name": "stdout",
     "output_type": "stream",
     "text": [
      "range(1, 178, 3)\n"
     ]
    }
   ],
   "source": [
    "print(myr)"
   ]
  },
  {
   "cell_type": "code",
   "execution_count": 77,
   "id": "3472ec49-0c3b-4f85-802f-913f0c5f2802",
   "metadata": {},
   "outputs": [],
   "source": [
    "myl = list([1,2,3])"
   ]
  },
  {
   "cell_type": "code",
   "execution_count": 78,
   "id": "c3b48bb1-be66-46e7-8b02-a82482da04d3",
   "metadata": {},
   "outputs": [
    {
     "data": {
      "text/plain": [
       "[1, 2, 3]"
      ]
     },
     "execution_count": 78,
     "metadata": {},
     "output_type": "execute_result"
    }
   ],
   "source": [
    "myl"
   ]
  },
  {
   "cell_type": "code",
   "execution_count": 80,
   "id": "6abda677-3a11-425f-aa86-cc2f88d63e17",
   "metadata": {},
   "outputs": [
    {
     "name": "stdout",
     "output_type": "stream",
     "text": [
      "[1, 2, 3]\n"
     ]
    }
   ],
   "source": [
    "print(myl)"
   ]
  },
  {
   "cell_type": "code",
   "execution_count": null,
   "id": "d21455d5-f052-425b-a96c-88c601fc7034",
   "metadata": {},
   "outputs": [],
   "source": []
  }
 ],
 "metadata": {
  "kernelspec": {
   "display_name": "Python 3 (ipykernel)",
   "language": "python",
   "name": "python3"
  },
  "language_info": {
   "codemirror_mode": {
    "name": "ipython",
    "version": 3
   },
   "file_extension": ".py",
   "mimetype": "text/x-python",
   "name": "python",
   "nbconvert_exporter": "python",
   "pygments_lexer": "ipython3",
   "version": "3.8.10"
  }
 },
 "nbformat": 4,
 "nbformat_minor": 5
}
